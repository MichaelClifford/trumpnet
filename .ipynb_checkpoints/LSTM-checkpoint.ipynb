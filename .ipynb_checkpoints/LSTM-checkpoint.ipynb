{
 "cells": [
  {
   "cell_type": "code",
   "execution_count": 1,
   "metadata": {
    "collapsed": false
   },
   "outputs": [
    {
     "name": "stderr",
     "output_type": "stream",
     "text": [
      "Using TensorFlow backend.\n"
     ]
    }
   ],
   "source": [
    "import numpy as np\n",
    "from keras.models import Sequential\n",
    "from keras.layers import Dense, Dropout, LSTM\n",
    "from keras.callbacks import ModelCheckpoint\n",
    "from keras.utils import np_utils\n"
   ]
  },
  {
   "cell_type": "code",
   "execution_count": 2,
   "metadata": {
    "collapsed": true
   },
   "outputs": [],
   "source": [
    "# load tweets and convert to lower case # for final we will not want to do this we can get a lot of character in the capitalization.\n",
    "filename = \"tweettext.txt\"\n",
    "raw_text = open(filename).read()\n",
    "raw_text = raw_text.lower()"
   ]
  },
  {
   "cell_type": "code",
   "execution_count": 3,
   "metadata": {
    "collapsed": false
   },
   "outputs": [],
   "source": [
    "# creating mapping from character to number for all unique charatcers in data set\n",
    "\n",
    "chars = sorted(list(set(raw_text)))\n",
    "char_to_int = dict((c,i) for i, c in enumerate(chars))"
   ]
  },
  {
   "cell_type": "code",
   "execution_count": 4,
   "metadata": {
    "collapsed": false
   },
   "outputs": [
    {
     "name": "stdout",
     "output_type": "stream",
     "text": [
      "Total Patters:  3827182\n"
     ]
    }
   ],
   "source": [
    "# prepare the dataset of inputs \n",
    "n_chars = len(raw_text)\n",
    "n_vocab = len(chars )\n",
    "seq_length = 140\n",
    "dataX =[]\n",
    "dataY= []\n",
    "\n",
    "for i in range(0,n_chars-seq_length,1):\n",
    "    seq_in = raw_text[i:i + seq_length]\n",
    "    seq_out = raw_text[i+seq_length]\n",
    "    dataX.append([char_to_int[char] for char in seq_in])\n",
    "    dataY.append(char_to_int[seq_out])\n",
    "n_patterns = len(dataX)\n",
    "print(\"Total Patters: \", n_patterns)\n"
   ]
  },
  {
   "cell_type": "code",
   "execution_count": 5,
   "metadata": {
    "collapsed": false
   },
   "outputs": [],
   "source": [
    "nX = dataX[0:1000]\n",
    "nY = dataY[0:1000]"
   ]
  },
  {
   "cell_type": "code",
   "execution_count": 6,
   "metadata": {
    "collapsed": false
   },
   "outputs": [
    {
     "name": "stdout",
     "output_type": "stream",
     "text": [
      "Once deleted, variables cannot be recovered. Proceed (y/[n])?  y\n",
      "Once deleted, variables cannot be recovered. Proceed (y/[n])?  y\n"
     ]
    }
   ],
   "source": [
    "%reset_selective dataX\n",
    "%reset_selective dataY"
   ]
  },
  {
   "cell_type": "code",
   "execution_count": 8,
   "metadata": {
    "collapsed": false
   },
   "outputs": [],
   "source": [
    "# Reshape X to be [samples, time steps, features] expected by LSTM\n",
    "X = np.reshape(nX,(1000,seq_length,1))\n",
    "# Normalize\n",
    "X = X/float(n_vocab)\n",
    "#one hot encoding\n",
    "y = np_utils.to_categorical(nY)"
   ]
  },
  {
   "cell_type": "code",
   "execution_count": 9,
   "metadata": {
    "collapsed": false
   },
   "outputs": [
    {
     "name": "stdout",
     "output_type": "stream",
     "text": [
      "_________________________________________________________________\n",
      "Layer (type)                 Output Shape              Param #   \n",
      "=================================================================\n",
      "lstm_1 (LSTM)                (None, 256)               264192    \n",
      "_________________________________________________________________\n",
      "dropout_1 (Dropout)          (None, 256)               0         \n",
      "_________________________________________________________________\n",
      "dense_1 (Dense)              (None, 63)                16191     \n",
      "=================================================================\n",
      "Total params: 280,383\n",
      "Trainable params: 280,383\n",
      "Non-trainable params: 0\n",
      "_________________________________________________________________\n"
     ]
    }
   ],
   "source": [
    "# build network\n",
    "\n",
    "TrumpNet = Sequential()\n",
    "TrumpNet.add(LSTM(256,input_shape=(X.shape[1],X.shape[2])))\n",
    "TrumpNet.add(Dropout(0.2))\n",
    "TrumpNet.add(Dense(y.shape[1],activation='softmax'))\n",
    "TrumpNet.compile(loss='categorical_crossentropy', optimizer='adam')\n",
    "TrumpNet.summary()"
   ]
  },
  {
   "cell_type": "code",
   "execution_count": 10,
   "metadata": {
    "collapsed": true
   },
   "outputs": [],
   "source": [
    "# define checkpoint\n",
    "filepath='weights-improvment-{epoch:02d}--{loss:4f}.hdf5'\n",
    "checkpoint = ModelCheckpoint(filepath,monitor='loss',verbose=1,save_best_only=True,mode='min')\n",
    "callbacks_list = [checkpoint]\n",
    "\n"
   ]
  },
  {
   "cell_type": "code",
   "execution_count": 11,
   "metadata": {
    "collapsed": false
   },
   "outputs": [
    {
     "name": "stdout",
     "output_type": "stream",
     "text": [
      "Epoch 1/10\n",
      " 980/1000 [============================>.] - ETA: 0s - loss: 3.3421Epoch 00000: loss improved from inf to 3.33997, saving model to weights-improvment-00--3.339969.hdf5\n",
      "1000/1000 [==============================] - 31s - loss: 3.3400    \n",
      "Epoch 2/10\n",
      " 980/1000 [============================>.] - ETA: 0s - loss: 3.1522Epoch 00001: loss improved from 3.33997 to 3.14552, saving model to weights-improvment-01--3.145516.hdf5\n",
      "1000/1000 [==============================] - 27s - loss: 3.1455    \n",
      "Epoch 3/10\n",
      " 980/1000 [============================>.] - ETA: 0s - loss: 3.1377Epoch 00002: loss improved from 3.14552 to 3.13034, saving model to weights-improvment-02--3.130339.hdf5\n",
      "1000/1000 [==============================] - 27s - loss: 3.1303    \n",
      "Epoch 4/10\n",
      " 980/1000 [============================>.] - ETA: 0s - loss: 3.1111Epoch 00003: loss improved from 3.13034 to 3.10739, saving model to weights-improvment-03--3.107394.hdf5\n",
      "1000/1000 [==============================] - 27s - loss: 3.1074    \n",
      "Epoch 5/10\n",
      " 980/1000 [============================>.] - ETA: 0s - loss: 3.1031Epoch 00004: loss improved from 3.10739 to 3.09934, saving model to weights-improvment-04--3.099342.hdf5\n",
      "1000/1000 [==============================] - 28s - loss: 3.0993    \n",
      "Epoch 6/10\n",
      " 980/1000 [============================>.] - ETA: 0s - loss: 3.1080Epoch 00005: loss did not improve\n",
      "1000/1000 [==============================] - 28s - loss: 3.1072    \n",
      "Epoch 7/10\n",
      " 980/1000 [============================>.] - ETA: 0s - loss: 3.0997Epoch 00006: loss improved from 3.09934 to 3.09773, saving model to weights-improvment-06--3.097726.hdf5\n",
      "1000/1000 [==============================] - 28s - loss: 3.0977    \n",
      "Epoch 8/10\n",
      " 980/1000 [============================>.] - ETA: 0s - loss: 3.1118Epoch 00007: loss did not improve\n",
      "1000/1000 [==============================] - 28s - loss: 3.1076    \n",
      "Epoch 9/10\n",
      " 980/1000 [============================>.] - ETA: 0s - loss: 3.0968Epoch 00008: loss did not improve\n",
      "1000/1000 [==============================] - 27s - loss: 3.0983    \n",
      "Epoch 10/10\n",
      " 980/1000 [============================>.] - ETA: 0s - loss: 3.0913Epoch 00009: loss improved from 3.09773 to 3.09009, saving model to weights-improvment-09--3.090092.hdf5\n",
      "1000/1000 [==============================] - 28s - loss: 3.0901    \n"
     ]
    },
    {
     "data": {
      "text/plain": [
       "<keras.callbacks.History at 0x1d2c7e48>"
      ]
     },
     "execution_count": 11,
     "metadata": {},
     "output_type": "execute_result"
    }
   ],
   "source": [
    "# TRAIN!\n",
    "\n",
    "TrumpNet.fit(X,y,epochs=10,batch_size=20,callbacks=callbacks_list)"
   ]
  },
  {
   "cell_type": "code",
   "execution_count": null,
   "metadata": {
    "collapsed": true
   },
   "outputs": [],
   "source": [
    "#GENERATE!"
   ]
  },
  {
   "cell_type": "code",
   "execution_count": 17,
   "metadata": {
    "collapsed": true
   },
   "outputs": [],
   "source": [
    "filename = 'weights-improvment-00--3.339969.hdf5'\n",
    "TrumpNet.load_weights(filename)\n",
    "TrumpNet.compile(loss ='categorical_crossentropy', optimizer='adam')"
   ]
  },
  {
   "cell_type": "code",
   "execution_count": 18,
   "metadata": {
    "collapsed": true
   },
   "outputs": [],
   "source": [
    "int_to_char = dict((i,c) for i, c in enumerate(chars))"
   ]
  },
  {
   "cell_type": "code",
   "execution_count": 19,
   "metadata": {
    "collapsed": true
   },
   "outputs": [],
   "source": [
    "import sys"
   ]
  },
  {
   "cell_type": "code",
   "execution_count": 22,
   "metadata": {
    "collapsed": false
   },
   "outputs": [
    {
     "data": {
      "text/plain": [
       "{0: ' ',\n",
       " 1: '!',\n",
       " 2: '\"',\n",
       " 3: '#',\n",
       " 4: '$',\n",
       " 5: '%',\n",
       " 6: '&',\n",
       " 7: \"'\",\n",
       " 8: '(',\n",
       " 9: ')',\n",
       " 10: '*',\n",
       " 11: '+',\n",
       " 12: ',',\n",
       " 13: '-',\n",
       " 14: '.',\n",
       " 15: '/',\n",
       " 16: '0',\n",
       " 17: '1',\n",
       " 18: '2',\n",
       " 19: '3',\n",
       " 20: '4',\n",
       " 21: '5',\n",
       " 22: '6',\n",
       " 23: '7',\n",
       " 24: '8',\n",
       " 25: '9',\n",
       " 26: ':',\n",
       " 27: ';',\n",
       " 28: '<',\n",
       " 29: '=',\n",
       " 30: '>',\n",
       " 31: '?',\n",
       " 32: '@',\n",
       " 33: '[',\n",
       " 34: '\\\\',\n",
       " 35: ']',\n",
       " 36: '_',\n",
       " 37: '`',\n",
       " 38: 'a',\n",
       " 39: 'b',\n",
       " 40: 'c',\n",
       " 41: 'd',\n",
       " 42: 'e',\n",
       " 43: 'f',\n",
       " 44: 'g',\n",
       " 45: 'h',\n",
       " 46: 'i',\n",
       " 47: 'j',\n",
       " 48: 'k',\n",
       " 49: 'l',\n",
       " 50: 'm',\n",
       " 51: 'n',\n",
       " 52: 'o',\n",
       " 53: 'p',\n",
       " 54: 'q',\n",
       " 55: 'r',\n",
       " 56: 's',\n",
       " 57: 't',\n",
       " 58: 'u',\n",
       " 59: 'v',\n",
       " 60: 'w',\n",
       " 61: 'x',\n",
       " 62: 'y',\n",
       " 63: 'z',\n",
       " 64: '{',\n",
       " 65: '|',\n",
       " 66: '}',\n",
       " 67: '~'}"
      ]
     },
     "execution_count": 22,
     "metadata": {},
     "output_type": "execute_result"
    }
   ],
   "source": [
    "int_to_char"
   ]
  },
  {
   "cell_type": "code",
   "execution_count": 23,
   "metadata": {
    "collapsed": false
   },
   "outputs": [
    {
     "name": "stdout",
     "output_type": "stream",
     "text": [
      "Seed:\n",
      "'  republican and democrat alike. when things calm down, they will be thanking me!'b'james comey will be replaced by someone who will do a far '\n",
      "_\n",
      "_\n",
      "_\n",
      "_\n",
      "_\n",
      "_\n",
      "_\n",
      "_\n",
      "_\n",
      "_\n",
      "_\n",
      "_\n",
      "_\n",
      "_\n",
      "_\n",
      "_\n",
      "_\n",
      "_\n",
      "_\n",
      "_\n",
      "_\n",
      "_\n",
      "_\n",
      "_\n",
      "_\n",
      "_\n",
      "_\n",
      "_\n",
      "_\n",
      "_\n",
      "_\n",
      "_\n",
      "_\n",
      "_\n",
      "_\n",
      "_\n",
      "_\n",
      "_\n",
      "_\n",
      "_\n",
      "_\n",
      "_\n",
      "_\n",
      "_\n",
      "_\n",
      "_\n",
      "_\n",
      "_\n",
      "_\n",
      "_\n",
      "_\n",
      "_\n",
      "_\n",
      "_\n",
      "_\n",
      "_\n",
      "_\n",
      "_\n",
      "_\n",
      "_\n",
      "_\n",
      "_\n",
      "_\n",
      "_\n",
      "_\n",
      "_\n",
      "_\n",
      "_\n",
      "_\n",
      "_\n",
      "_\n",
      "_\n",
      "_\n",
      "_\n",
      "_\n",
      "_\n",
      "_\n",
      "_\n",
      "_\n",
      "_\n",
      "_\n",
      "_\n",
      "_\n",
      "_\n",
      "_\n",
      "_\n",
      "_\n",
      "_\n",
      "_\n",
      "_\n",
      "_\n",
      "_\n",
      "_\n",
      "_\n",
      "_\n",
      "_\n",
      "_\n",
      "_\n",
      "_\n",
      "_\n",
      "\n",
      "Done.\n"
     ]
    }
   ],
   "source": [
    "\n",
    "# Pick a random seed\n",
    "start = np.random.randint(0,len(nX)-1)\n",
    "pattern = nX[start]\n",
    "print(\"Seed:\")\n",
    "print('\\'' , ''.join([int_to_char[value] for value in pattern]),'\\'')\n",
    "\n",
    "# Generate Characters\n",
    "for i in range(10):\n",
    "    x = np.reshape(pattern,(1,len(pattern),1))\n",
    "    x = x/float(n_vocab)\n",
    "    prediction = TrumpNet.predict(x,verbose=0)\n",
    "    index = np.argmax(prediction)\n",
    "    result = int_to_char[index]\n",
    "    seq_in = [int_to_char[value] for value in pattern]\n",
    "    print(result)\n",
    "    pattern.append(index)\n",
    "    pattern = pattern[1:len(pattern)]\n",
    "print(\"\\nDone.\")\n"
   ]
  },
  {
   "cell_type": "code",
   "execution_count": 21,
   "metadata": {
    "collapsed": false
   },
   "outputs": [
    {
     "data": {
      "text/plain": [
       "' '"
      ]
     },
     "execution_count": 21,
     "metadata": {},
     "output_type": "execute_result"
    }
   ],
   "source": [
    "result"
   ]
  }
 ],
 "metadata": {
  "anaconda-cloud": {},
  "kernelspec": {
   "display_name": "Python [conda env:python3]",
   "language": "python",
   "name": "conda-env-python3-py"
  },
  "language_info": {
   "codemirror_mode": {
    "name": "ipython",
    "version": 3
   },
   "file_extension": ".py",
   "mimetype": "text/x-python",
   "name": "python",
   "nbconvert_exporter": "python",
   "pygments_lexer": "ipython3",
   "version": "3.5.2"
  }
 },
 "nbformat": 4,
 "nbformat_minor": 1
}
