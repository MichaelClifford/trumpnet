{
 "cells": [
  {
   "cell_type": "code",
   "execution_count": 2,
   "metadata": {
    "collapsed": true
   },
   "outputs": [],
   "source": [
    "import pandas as pd"
   ]
  },
  {
   "cell_type": "code",
   "execution_count": 3,
   "metadata": {
    "collapsed": false
   },
   "outputs": [
    {
     "data": {
      "text/html": [
       "<div>\n",
       "<table border=\"1\" class=\"dataframe\">\n",
       "  <thead>\n",
       "    <tr style=\"text-align: right;\">\n",
       "      <th></th>\n",
       "      <th>Text</th>\n",
       "      <th>Date</th>\n",
       "      <th>Favorites</th>\n",
       "      <th>Retweets</th>\n",
       "      <th>Tweet ID</th>\n",
       "    </tr>\n",
       "  </thead>\n",
       "  <tbody>\n",
       "    <tr>\n",
       "      <th>0</th>\n",
       "      <td>b'The Roger Stone report on @CNN is false - Fa...</td>\n",
       "      <td>2017-05-10 08:57:16</td>\n",
       "      <td>27067</td>\n",
       "      <td>8367</td>\n",
       "      <td>862290442129461249</td>\n",
       "    </tr>\n",
       "    <tr>\n",
       "      <th>1</th>\n",
       "      <td>b'caught, he cried like a baby and begged for ...</td>\n",
       "      <td>2017-05-10 08:39:59</td>\n",
       "      <td>29927</td>\n",
       "      <td>7607</td>\n",
       "      <td>862286091759611905</td>\n",
       "    </tr>\n",
       "    <tr>\n",
       "      <th>2</th>\n",
       "      <td>b'years, as a pol in Connecticut, Blumenthal w...</td>\n",
       "      <td>2017-05-10 08:30:51</td>\n",
       "      <td>28166</td>\n",
       "      <td>8155</td>\n",
       "      <td>862283792559616000</td>\n",
       "    </tr>\n",
       "    <tr>\n",
       "      <th>3</th>\n",
       "      <td>b'Watching Senator Richard Blumenthal speak of...</td>\n",
       "      <td>2017-05-10 08:24:32</td>\n",
       "      <td>29273</td>\n",
       "      <td>8519</td>\n",
       "      <td>862282202188566529</td>\n",
       "    </tr>\n",
       "    <tr>\n",
       "      <th>4</th>\n",
       "      <td>b'Comey lost the confidence of almost everyone...</td>\n",
       "      <td>2017-05-10 07:27:13</td>\n",
       "      <td>43627</td>\n",
       "      <td>11545</td>\n",
       "      <td>862267781336752128</td>\n",
       "    </tr>\n",
       "  </tbody>\n",
       "</table>\n",
       "</div>"
      ],
      "text/plain": [
       "                                                Text                 Date  \\\n",
       "0  b'The Roger Stone report on @CNN is false - Fa...  2017-05-10 08:57:16   \n",
       "1  b'caught, he cried like a baby and begged for ...  2017-05-10 08:39:59   \n",
       "2  b'years, as a pol in Connecticut, Blumenthal w...  2017-05-10 08:30:51   \n",
       "3  b'Watching Senator Richard Blumenthal speak of...  2017-05-10 08:24:32   \n",
       "4  b'Comey lost the confidence of almost everyone...  2017-05-10 07:27:13   \n",
       "\n",
       "   Favorites  Retweets            Tweet ID  \n",
       "0      27067      8367  862290442129461249  \n",
       "1      29927      7607  862286091759611905  \n",
       "2      28166      8155  862283792559616000  \n",
       "3      29273      8519  862282202188566529  \n",
       "4      43627     11545  862267781336752128  "
      ]
     },
     "execution_count": 3,
     "metadata": {},
     "output_type": "execute_result"
    }
   ],
   "source": [
    "df = pd.read_csv('data.csv')\n",
    "df.head()"
   ]
  },
  {
   "cell_type": "code",
   "execution_count": 4,
   "metadata": {
    "collapsed": false
   },
   "outputs": [
    {
     "data": {
      "text/html": [
       "<div>\n",
       "<table border=\"1\" class=\"dataframe\">\n",
       "  <thead>\n",
       "    <tr style=\"text-align: right;\">\n",
       "      <th></th>\n",
       "      <th>Text</th>\n",
       "      <th>Date</th>\n",
       "      <th>Favorites</th>\n",
       "      <th>Retweets</th>\n",
       "      <th>Tweet ID</th>\n",
       "    </tr>\n",
       "  </thead>\n",
       "  <tbody>\n",
       "    <tr>\n",
       "      <th>31862</th>\n",
       "      <td>b'\"My persona will never be that of a wallflow...</td>\n",
       "      <td>2009-05-12 10:07:28</td>\n",
       "      <td>1914</td>\n",
       "      <td>1457</td>\n",
       "      <td>1773561338</td>\n",
       "    </tr>\n",
       "    <tr>\n",
       "      <th>31863</th>\n",
       "      <td>b'New Blog Post: Celebrity Apprentice Finale a...</td>\n",
       "      <td>2009-05-08 16:40:15</td>\n",
       "      <td>29</td>\n",
       "      <td>9</td>\n",
       "      <td>1741160716</td>\n",
       "    </tr>\n",
       "    <tr>\n",
       "      <th>31864</th>\n",
       "      <td>b'Donald Trump reads Top Ten Financial Tips on...</td>\n",
       "      <td>2009-05-08 09:38:08</td>\n",
       "      <td>5</td>\n",
       "      <td>5</td>\n",
       "      <td>1737479987</td>\n",
       "    </tr>\n",
       "    <tr>\n",
       "      <th>31865</th>\n",
       "      <td>b'Donald Trump will be appearing on The View t...</td>\n",
       "      <td>2009-05-04 21:00:10</td>\n",
       "      <td>6</td>\n",
       "      <td>4</td>\n",
       "      <td>1701461182</td>\n",
       "    </tr>\n",
       "    <tr>\n",
       "      <th>31866</th>\n",
       "      <td>b'Be sure to tune in and watch Donald Trump on...</td>\n",
       "      <td>2009-05-04 14:54:25</td>\n",
       "      <td>342</td>\n",
       "      <td>398</td>\n",
       "      <td>1698308935</td>\n",
       "    </tr>\n",
       "  </tbody>\n",
       "</table>\n",
       "</div>"
      ],
      "text/plain": [
       "                                                    Text                 Date  \\\n",
       "31862  b'\"My persona will never be that of a wallflow...  2009-05-12 10:07:28   \n",
       "31863  b'New Blog Post: Celebrity Apprentice Finale a...  2009-05-08 16:40:15   \n",
       "31864  b'Donald Trump reads Top Ten Financial Tips on...  2009-05-08 09:38:08   \n",
       "31865  b'Donald Trump will be appearing on The View t...  2009-05-04 21:00:10   \n",
       "31866  b'Be sure to tune in and watch Donald Trump on...  2009-05-04 14:54:25   \n",
       "\n",
       "       Favorites  Retweets    Tweet ID  \n",
       "31862       1914      1457  1773561338  \n",
       "31863         29         9  1741160716  \n",
       "31864          5         5  1737479987  \n",
       "31865          6         4  1701461182  \n",
       "31866        342       398  1698308935  "
      ]
     },
     "execution_count": 4,
     "metadata": {},
     "output_type": "execute_result"
    }
   ],
   "source": [
    "df.tail()"
   ]
  },
  {
   "cell_type": "code",
   "execution_count": 22,
   "metadata": {
    "collapsed": false
   },
   "outputs": [
    {
     "data": {
      "text/plain": [
       "\"b'Donald Trump will be appearing on The View tomorrow morning to discuss Celebrity Apprentice and his new book Think Like A Champion!'\""
      ]
     },
     "execution_count": 22,
     "metadata": {},
     "output_type": "execute_result"
    }
   ],
   "source": [
    "df.iloc[31865].Text"
   ]
  },
  {
   "cell_type": "code",
   "execution_count": 19,
   "metadata": {
    "collapsed": false,
    "scrolled": true
   },
   "outputs": [
    {
     "name": "stdout",
     "output_type": "stream",
     "text": [
      "<class 'pandas.core.frame.DataFrame'>\n",
      "RangeIndex: 31867 entries, 0 to 31866\n",
      "Data columns (total 5 columns):\n",
      "Text         31867 non-null object\n",
      "Date         31867 non-null object\n",
      "Favorites    31867 non-null int64\n",
      "Retweets     31867 non-null int64\n",
      "Tweet ID     31867 non-null int64\n",
      "dtypes: int64(3), object(2)\n",
      "memory usage: 1.2+ MB\n"
     ]
    }
   ],
   "source": [
    "df.info()"
   ]
  },
  {
   "cell_type": "code",
   "execution_count": 13,
   "metadata": {
    "collapsed": false
   },
   "outputs": [],
   "source": [
    "text_only = []\n",
    "for i in df['Text']:\n",
    "    text_only.append(i)\n"
   ]
  },
  {
   "cell_type": "code",
   "execution_count": 18,
   "metadata": {
    "collapsed": false
   },
   "outputs": [],
   "source": [
    "the_file = open('tweettext.txt','w')\n",
    "for item in text_only:\n",
    "    the_file.write(item)\n",
    "\n"
   ]
  }
 ],
 "metadata": {
  "kernelspec": {
   "display_name": "Python [conda env:python3]",
   "language": "python",
   "name": "conda-env-python3-py"
  },
  "language_info": {
   "codemirror_mode": {
    "name": "ipython",
    "version": 3
   },
   "file_extension": ".py",
   "mimetype": "text/x-python",
   "name": "python",
   "nbconvert_exporter": "python",
   "pygments_lexer": "ipython3",
   "version": "3.5.2"
  }
 },
 "nbformat": 4,
 "nbformat_minor": 2
}
